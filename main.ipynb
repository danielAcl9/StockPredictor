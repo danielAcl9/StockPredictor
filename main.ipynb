{
 "cells": [
  {
   "cell_type": "code",
   "execution_count": 176,
   "id": "777b8643",
   "metadata": {},
   "outputs": [],
   "source": [
    "# Import utiliies and libraries\n",
    "import pandas as pd\n",
    "import numpy as np\n",
    "import matplotlib.pyplot as plt\n",
    "import seaborn as sns"
   ]
  },
  {
   "cell_type": "markdown",
   "id": "a440bc58",
   "metadata": {},
   "source": [
    "### EDA"
   ]
  },
  {
   "cell_type": "markdown",
   "id": "0fb7150a",
   "metadata": {},
   "source": [
    "#### Price CSV"
   ]
  },
  {
   "cell_type": "code",
   "execution_count": 177,
   "id": "9902243c",
   "metadata": {},
   "outputs": [
    {
     "data": {
      "text/html": [
       "<div>\n",
       "<style scoped>\n",
       "    .dataframe tbody tr th:only-of-type {\n",
       "        vertical-align: middle;\n",
       "    }\n",
       "\n",
       "    .dataframe tbody tr th {\n",
       "        vertical-align: top;\n",
       "    }\n",
       "\n",
       "    .dataframe thead th {\n",
       "        text-align: right;\n",
       "    }\n",
       "</style>\n",
       "<table border=\"1\" class=\"dataframe\">\n",
       "  <thead>\n",
       "    <tr style=\"text-align: right;\">\n",
       "      <th></th>\n",
       "      <th>date</th>\n",
       "      <th>ticker</th>\n",
       "      <th>open</th>\n",
       "      <th>high</th>\n",
       "      <th>low</th>\n",
       "      <th>close</th>\n",
       "      <th>volume</th>\n",
       "    </tr>\n",
       "  </thead>\n",
       "  <tbody>\n",
       "    <tr>\n",
       "      <th>0</th>\n",
       "      <td>2023-11-13</td>\n",
       "      <td>AAPL</td>\n",
       "      <td>185.820007</td>\n",
       "      <td>186.029999</td>\n",
       "      <td>184.210007</td>\n",
       "      <td>184.800003</td>\n",
       "      <td>43627500</td>\n",
       "    </tr>\n",
       "    <tr>\n",
       "      <th>1</th>\n",
       "      <td>2023-11-14</td>\n",
       "      <td>AAPL</td>\n",
       "      <td>187.699997</td>\n",
       "      <td>188.110001</td>\n",
       "      <td>186.300003</td>\n",
       "      <td>187.440002</td>\n",
       "      <td>60108400</td>\n",
       "    </tr>\n",
       "    <tr>\n",
       "      <th>2</th>\n",
       "      <td>2023-11-15</td>\n",
       "      <td>AAPL</td>\n",
       "      <td>187.850006</td>\n",
       "      <td>189.500000</td>\n",
       "      <td>187.779999</td>\n",
       "      <td>188.009995</td>\n",
       "      <td>53790500</td>\n",
       "    </tr>\n",
       "    <tr>\n",
       "      <th>3</th>\n",
       "      <td>2023-11-16</td>\n",
       "      <td>AAPL</td>\n",
       "      <td>189.570007</td>\n",
       "      <td>190.960007</td>\n",
       "      <td>188.649994</td>\n",
       "      <td>189.710007</td>\n",
       "      <td>54412900</td>\n",
       "    </tr>\n",
       "    <tr>\n",
       "      <th>4</th>\n",
       "      <td>2023-11-17</td>\n",
       "      <td>AAPL</td>\n",
       "      <td>190.250000</td>\n",
       "      <td>190.380005</td>\n",
       "      <td>188.570007</td>\n",
       "      <td>189.690002</td>\n",
       "      <td>50922700</td>\n",
       "    </tr>\n",
       "  </tbody>\n",
       "</table>\n",
       "</div>"
      ],
      "text/plain": [
       "         date ticker        open        high         low       close    volume\n",
       "0  2023-11-13   AAPL  185.820007  186.029999  184.210007  184.800003  43627500\n",
       "1  2023-11-14   AAPL  187.699997  188.110001  186.300003  187.440002  60108400\n",
       "2  2023-11-15   AAPL  187.850006  189.500000  187.779999  188.009995  53790500\n",
       "3  2023-11-16   AAPL  189.570007  190.960007  188.649994  189.710007  54412900\n",
       "4  2023-11-17   AAPL  190.250000  190.380005  188.570007  189.690002  50922700"
      ]
     },
     "execution_count": 177,
     "metadata": {},
     "output_type": "execute_result"
    }
   ],
   "source": [
    "# Read price data from the CSV file\n",
    "df_price = pd.read_csv('data/price.csv')\n",
    "df_price.head()"
   ]
  },
  {
   "cell_type": "code",
   "execution_count": 178,
   "id": "b23abfeb",
   "metadata": {},
   "outputs": [
    {
     "data": {
      "text/plain": [
       "date       object\n",
       "ticker     object\n",
       "open      float64\n",
       "high      float64\n",
       "low       float64\n",
       "close     float64\n",
       "volume      int64\n",
       "dtype: object"
      ]
     },
     "execution_count": 178,
     "metadata": {},
     "output_type": "execute_result"
    }
   ],
   "source": [
    "# Get data types of the price df\n",
    "df_price.dtypes"
   ]
  },
  {
   "cell_type": "code",
   "execution_count": 179,
   "id": "b94cc7c2",
   "metadata": {},
   "outputs": [
    {
     "data": {
      "text/html": [
       "<div>\n",
       "<style scoped>\n",
       "    .dataframe tbody tr th:only-of-type {\n",
       "        vertical-align: middle;\n",
       "    }\n",
       "\n",
       "    .dataframe tbody tr th {\n",
       "        vertical-align: top;\n",
       "    }\n",
       "\n",
       "    .dataframe thead th {\n",
       "        text-align: right;\n",
       "    }\n",
       "</style>\n",
       "<table border=\"1\" class=\"dataframe\">\n",
       "  <thead>\n",
       "    <tr style=\"text-align: right;\">\n",
       "      <th></th>\n",
       "      <th>open</th>\n",
       "      <th>high</th>\n",
       "      <th>low</th>\n",
       "      <th>close</th>\n",
       "      <th>volume</th>\n",
       "    </tr>\n",
       "  </thead>\n",
       "  <tbody>\n",
       "    <tr>\n",
       "      <th>count</th>\n",
       "      <td>1687.000000</td>\n",
       "      <td>1687.000000</td>\n",
       "      <td>1687.000000</td>\n",
       "      <td>1687.000000</td>\n",
       "      <td>1.687000e+03</td>\n",
       "    </tr>\n",
       "    <tr>\n",
       "      <th>mean</th>\n",
       "      <td>245.203879</td>\n",
       "      <td>248.029241</td>\n",
       "      <td>242.278194</td>\n",
       "      <td>245.264770</td>\n",
       "      <td>9.613876e+07</td>\n",
       "    </tr>\n",
       "    <tr>\n",
       "      <th>std</th>\n",
       "      <td>134.583166</td>\n",
       "      <td>135.776406</td>\n",
       "      <td>133.247946</td>\n",
       "      <td>134.540129</td>\n",
       "      <td>1.442287e+08</td>\n",
       "    </tr>\n",
       "    <tr>\n",
       "      <th>min</th>\n",
       "      <td>45.466000</td>\n",
       "      <td>46.077000</td>\n",
       "      <td>45.009998</td>\n",
       "      <td>45.502998</td>\n",
       "      <td>5.467500e+06</td>\n",
       "    </tr>\n",
       "    <tr>\n",
       "      <th>25%</th>\n",
       "      <td>158.190002</td>\n",
       "      <td>160.525002</td>\n",
       "      <td>156.540001</td>\n",
       "      <td>159.059998</td>\n",
       "      <td>2.076580e+07</td>\n",
       "    </tr>\n",
       "    <tr>\n",
       "      <th>50%</th>\n",
       "      <td>187.360001</td>\n",
       "      <td>189.279999</td>\n",
       "      <td>185.419998</td>\n",
       "      <td>187.429993</td>\n",
       "      <td>3.934310e+07</td>\n",
       "    </tr>\n",
       "    <tr>\n",
       "      <th>75%</th>\n",
       "      <td>371.489990</td>\n",
       "      <td>374.440002</td>\n",
       "      <td>368.845001</td>\n",
       "      <td>372.860001</td>\n",
       "      <td>8.306055e+07</td>\n",
       "    </tr>\n",
       "    <tr>\n",
       "      <th>max</th>\n",
       "      <td>598.219971</td>\n",
       "      <td>602.950012</td>\n",
       "      <td>589.960022</td>\n",
       "      <td>595.940002</td>\n",
       "      <td>1.142269e+09</td>\n",
       "    </tr>\n",
       "  </tbody>\n",
       "</table>\n",
       "</div>"
      ],
      "text/plain": [
       "              open         high          low        close        volume\n",
       "count  1687.000000  1687.000000  1687.000000  1687.000000  1.687000e+03\n",
       "mean    245.203879   248.029241   242.278194   245.264770  9.613876e+07\n",
       "std     134.583166   135.776406   133.247946   134.540129  1.442287e+08\n",
       "min      45.466000    46.077000    45.009998    45.502998  5.467500e+06\n",
       "25%     158.190002   160.525002   156.540001   159.059998  2.076580e+07\n",
       "50%     187.360001   189.279999   185.419998   187.429993  3.934310e+07\n",
       "75%     371.489990   374.440002   368.845001   372.860001  8.306055e+07\n",
       "max     598.219971   602.950012   589.960022   595.940002  1.142269e+09"
      ]
     },
     "execution_count": 179,
     "metadata": {},
     "output_type": "execute_result"
    }
   ],
   "source": [
    "df_price.describe()"
   ]
  },
  {
   "cell_type": "code",
   "execution_count": 180,
   "id": "399989f5",
   "metadata": {},
   "outputs": [],
   "source": [
    "# Check for duplicates. None in this case.\n",
    "# df_price.duplicated().any()"
   ]
  },
  {
   "cell_type": "code",
   "execution_count": 181,
   "id": "2c800d60",
   "metadata": {},
   "outputs": [
    {
     "data": {
      "text/plain": [
       "date      False\n",
       "ticker    False\n",
       "open      False\n",
       "high      False\n",
       "low       False\n",
       "close     False\n",
       "volume    False\n",
       "dtype: bool"
      ]
     },
     "execution_count": 181,
     "metadata": {},
     "output_type": "execute_result"
    }
   ],
   "source": [
    "# Check for null values. None in this case.\n",
    "df_price.isnull().any()"
   ]
  },
  {
   "cell_type": "markdown",
   "id": "babc7f35",
   "metadata": {},
   "source": [
    "#### Time Series of Prices (Date vs Close)"
   ]
  },
  {
   "cell_type": "code",
   "execution_count": 182,
   "id": "0201b64a",
   "metadata": {},
   "outputs": [
    {
     "data": {
      "text/plain": [
       "Text(0.5, 1.0, 'Stock Closing Price Over Time')"
      ]
     },
     "execution_count": 182,
     "metadata": {},
     "output_type": "execute_result"
    },
    {
     "data": {
      "image/png": "[encoded data removed]",
      "text/plain": [
       "<Figure size 1200x600 with 1 Axes>"
      ]
     },
     "metadata": {},
     "output_type": "display_data"
    }
   ],
   "source": [
    "# Plot a graph to visualize the stock price over time\n",
    "df_price.plot(x='date', y='close', figsize=(12, 6))\n",
    "plt.xlabel('Date')\n",
    "plt.ylabel('Closing Price')\n",
    "plt.title('Stock Closing Price Over Time')"
   ]
  },
  {
   "cell_type": "markdown",
   "id": "cf57f5e4",
   "metadata": {},
   "source": [
    "From November 2023 to early January 2024, the stock price rises strongly, peaking near 590. Then, there is a sharp drop in mid-January, followed by sudden jumps (gaps) later in the month. Since early February, the price has moved more steadily in the 400–450 range. Te chart shows strong growth at first, a massive drop, high volatility, and sharp movements that may need further review."
   ]
  },
  {
   "cell_type": "code",
   "execution_count": 183,
   "id": "fe6067c1",
   "metadata": {},
   "outputs": [
    {
     "data": {
      "text/html": [
       "<div>\n",
       "<style scoped>\n",
       "    .dataframe tbody tr th:only-of-type {\n",
       "        vertical-align: middle;\n",
       "    }\n",
       "\n",
       "    .dataframe tbody tr th {\n",
       "        vertical-align: top;\n",
       "    }\n",
       "\n",
       "    .dataframe thead th {\n",
       "        text-align: right;\n",
       "    }\n",
       "</style>\n",
       "<table border=\"1\" class=\"dataframe\">\n",
       "  <thead>\n",
       "    <tr style=\"text-align: right;\">\n",
       "      <th></th>\n",
       "      <th>date</th>\n",
       "      <th>ticker</th>\n",
       "      <th>open</th>\n",
       "      <th>high</th>\n",
       "      <th>low</th>\n",
       "      <th>close</th>\n",
       "      <th>volume</th>\n",
       "      <th>return</th>\n",
       "    </tr>\n",
       "  </thead>\n",
       "  <tbody>\n",
       "    <tr>\n",
       "      <th>1</th>\n",
       "      <td>2023-11-14</td>\n",
       "      <td>AAPL</td>\n",
       "      <td>187.699997</td>\n",
       "      <td>188.110001</td>\n",
       "      <td>186.300003</td>\n",
       "      <td>187.440002</td>\n",
       "      <td>60108400</td>\n",
       "      <td>0.014286</td>\n",
       "    </tr>\n",
       "    <tr>\n",
       "      <th>2</th>\n",
       "      <td>2023-11-15</td>\n",
       "      <td>AAPL</td>\n",
       "      <td>187.850006</td>\n",
       "      <td>189.500000</td>\n",
       "      <td>187.779999</td>\n",
       "      <td>188.009995</td>\n",
       "      <td>53790500</td>\n",
       "      <td>0.003041</td>\n",
       "    </tr>\n",
       "    <tr>\n",
       "      <th>3</th>\n",
       "      <td>2023-11-16</td>\n",
       "      <td>AAPL</td>\n",
       "      <td>189.570007</td>\n",
       "      <td>190.960007</td>\n",
       "      <td>188.649994</td>\n",
       "      <td>189.710007</td>\n",
       "      <td>54412900</td>\n",
       "      <td>0.009042</td>\n",
       "    </tr>\n",
       "  </tbody>\n",
       "</table>\n",
       "</div>"
      ],
      "text/plain": [
       "         date ticker        open        high         low       close  \\\n",
       "1  2023-11-14   AAPL  187.699997  188.110001  186.300003  187.440002   \n",
       "2  2023-11-15   AAPL  187.850006  189.500000  187.779999  188.009995   \n",
       "3  2023-11-16   AAPL  189.570007  190.960007  188.649994  189.710007   \n",
       "\n",
       "     volume    return  \n",
       "1  60108400  0.014286  \n",
       "2  53790500  0.003041  \n",
       "3  54412900  0.009042  "
      ]
     },
     "execution_count": 183,
     "metadata": {},
     "output_type": "execute_result"
    }
   ],
   "source": [
    "df_price['return'] = df_price['close'].pct_change()\n",
    "\n",
    "df_price = df_price.dropna(subset=['return'])\n",
    "df_price.head(3)"
   ]
  },
  {
   "cell_type": "code",
   "execution_count": 184,
   "id": "ca4bae46",
   "metadata": {},
   "outputs": [
    {
     "data": {
      "text/plain": [
       "Text(0.5, 1.0, 'Stock Closing Price Over Time')"
      ]
     },
     "execution_count": 184,
     "metadata": {},
     "output_type": "execute_result"
    },
    {
     "data": {
      "image/png": "[encoded data removed]",
      "text/plain": [
       "<Figure size 640x480 with 1 Axes>"
      ]
     },
     "metadata": {},
     "output_type": "display_data"
    }
   ],
   "source": [
    "df_price['return'].hist(bins=50)\n",
    "plt.xlabel('Daily Return')\n",
    "plt.ylabel('Frequency')\n",
    "plt.title('Stock Closing Price Over Time')\n"
   ]
  },
  {
   "cell_type": "markdown",
   "id": "dcd18520",
   "metadata": {},
   "source": [
    "The histogram shows that most daily returns are very close to zero, meaning the stock usually moves only a small amount each day. The distribution is narrow and centered around zero, with very few extreme values on either side. This suggests that while there are occasional large moves, the majority of daily changes are small and stable."
   ]
  },
  {
   "cell_type": "markdown",
   "id": "531363df",
   "metadata": {},
   "source": [
    "#### News CSV"
   ]
  },
  {
   "cell_type": "code",
   "execution_count": 185,
   "id": "834a8aec",
   "metadata": {},
   "outputs": [
    {
     "data": {
      "text/html": [
       "<div>\n",
       "<style scoped>\n",
       "    .dataframe tbody tr th:only-of-type {\n",
       "        vertical-align: middle;\n",
       "    }\n",
       "\n",
       "    .dataframe tbody tr th {\n",
       "        vertical-align: top;\n",
       "    }\n",
       "\n",
       "    .dataframe thead th {\n",
       "        text-align: right;\n",
       "    }\n",
       "</style>\n",
       "<table border=\"1\" class=\"dataframe\">\n",
       "  <thead>\n",
       "    <tr style=\"text-align: right;\">\n",
       "      <th></th>\n",
       "      <th>datetime</th>\n",
       "      <th>ticker</th>\n",
       "      <th>headline</th>\n",
       "      <th>summary</th>\n",
       "    </tr>\n",
       "  </thead>\n",
       "  <tbody>\n",
       "    <tr>\n",
       "      <th>0</th>\n",
       "      <td>2024-10-29 18:07:48</td>\n",
       "      <td>AAPL</td>\n",
       "      <td>Apple Unveils the Redesigned Mac Mini</td>\n",
       "      <td>-- Apple overhauled the design of its Mac mini...</td>\n",
       "    </tr>\n",
       "    <tr>\n",
       "      <th>1</th>\n",
       "      <td>2024-10-29 02:21:10</td>\n",
       "      <td>AAPL</td>\n",
       "      <td>Apple blocked from selling iPhone 16 in Indone...</td>\n",
       "      <td>TECH giant Apple will not be allowed to sell i...</td>\n",
       "    </tr>\n",
       "    <tr>\n",
       "      <th>2</th>\n",
       "      <td>2024-10-28 14:05:22</td>\n",
       "      <td>AAPL</td>\n",
       "      <td>Apple Rises on Apple Intelligence Rollout, New...</td>\n",
       "      <td>-- Apple unveiled its new iMac and said Apple ...</td>\n",
       "    </tr>\n",
       "    <tr>\n",
       "      <th>3</th>\n",
       "      <td>2024-10-28 12:05:04</td>\n",
       "      <td>AAPL</td>\n",
       "      <td>Apple : How Apple developed the world’s first ...</td>\n",
       "      <td>apple stories Inside the Audio Lab: How Apple ...</td>\n",
       "    </tr>\n",
       "    <tr>\n",
       "      <th>4</th>\n",
       "      <td>2024-10-28 11:02:06</td>\n",
       "      <td>AAPL</td>\n",
       "      <td>Apple launches the iPhone into the AI era with...</td>\n",
       "      <td>Apple is releasing a free software update that...</td>\n",
       "    </tr>\n",
       "  </tbody>\n",
       "</table>\n",
       "</div>"
      ],
      "text/plain": [
       "              datetime ticker  \\\n",
       "0  2024-10-29 18:07:48   AAPL   \n",
       "1  2024-10-29 02:21:10   AAPL   \n",
       "2  2024-10-28 14:05:22   AAPL   \n",
       "3  2024-10-28 12:05:04   AAPL   \n",
       "4  2024-10-28 11:02:06   AAPL   \n",
       "\n",
       "                                            headline  \\\n",
       "0              Apple Unveils the Redesigned Mac Mini   \n",
       "1  Apple blocked from selling iPhone 16 in Indone...   \n",
       "2  Apple Rises on Apple Intelligence Rollout, New...   \n",
       "3  Apple : How Apple developed the world’s first ...   \n",
       "4  Apple launches the iPhone into the AI era with...   \n",
       "\n",
       "                                             summary  \n",
       "0  -- Apple overhauled the design of its Mac mini...  \n",
       "1  TECH giant Apple will not be allowed to sell i...  \n",
       "2  -- Apple unveiled its new iMac and said Apple ...  \n",
       "3  apple stories Inside the Audio Lab: How Apple ...  \n",
       "4  Apple is releasing a free software update that...  "
      ]
     },
     "execution_count": 185,
     "metadata": {},
     "output_type": "execute_result"
    }
   ],
   "source": [
    "# Read news data from the CSV file\n",
    "df_news = pd.read_csv('data/news.csv')\n",
    "df_news.head()"
   ]
  },
  {
   "cell_type": "code",
   "execution_count": 186,
   "id": "98605691",
   "metadata": {},
   "outputs": [
    {
     "data": {
      "text/plain": [
       "datetime    object\n",
       "ticker      object\n",
       "headline    object\n",
       "summary     object\n",
       "dtype: object"
      ]
     },
     "execution_count": 186,
     "metadata": {},
     "output_type": "execute_result"
    }
   ],
   "source": [
    "# Get data types of the news df. All are in object, or strings \n",
    "df_news.dtypes"
   ]
  },
  {
   "cell_type": "code",
   "execution_count": 187,
   "id": "9ab8f9c0",
   "metadata": {},
   "outputs": [
    {
     "data": {
      "text/html": [
       "<div>\n",
       "<style scoped>\n",
       "    .dataframe tbody tr th:only-of-type {\n",
       "        vertical-align: middle;\n",
       "    }\n",
       "\n",
       "    .dataframe tbody tr th {\n",
       "        vertical-align: top;\n",
       "    }\n",
       "\n",
       "    .dataframe thead th {\n",
       "        text-align: right;\n",
       "    }\n",
       "</style>\n",
       "<table border=\"1\" class=\"dataframe\">\n",
       "  <thead>\n",
       "    <tr style=\"text-align: right;\">\n",
       "      <th></th>\n",
       "      <th>datetime</th>\n",
       "      <th>ticker</th>\n",
       "      <th>headline</th>\n",
       "      <th>summary</th>\n",
       "    </tr>\n",
       "  </thead>\n",
       "  <tbody>\n",
       "    <tr>\n",
       "      <th>count</th>\n",
       "      <td>4440</td>\n",
       "      <td>4440</td>\n",
       "      <td>4440</td>\n",
       "      <td>4439</td>\n",
       "    </tr>\n",
       "    <tr>\n",
       "      <th>unique</th>\n",
       "      <td>4395</td>\n",
       "      <td>7</td>\n",
       "      <td>4214</td>\n",
       "      <td>4262</td>\n",
       "    </tr>\n",
       "    <tr>\n",
       "      <th>top</th>\n",
       "      <td>2024-06-24 03:40:00</td>\n",
       "      <td>AMZN</td>\n",
       "      <td>European regulators crack down on Big Tech</td>\n",
       "      <td>Editor's note: This post is part of the AI Dec...</td>\n",
       "    </tr>\n",
       "    <tr>\n",
       "      <th>freq</th>\n",
       "      <td>4</td>\n",
       "      <td>941</td>\n",
       "      <td>8</td>\n",
       "      <td>6</td>\n",
       "    </tr>\n",
       "  </tbody>\n",
       "</table>\n",
       "</div>"
      ],
      "text/plain": [
       "                   datetime ticker  \\\n",
       "count                  4440   4440   \n",
       "unique                 4395      7   \n",
       "top     2024-06-24 03:40:00   AMZN   \n",
       "freq                      4    941   \n",
       "\n",
       "                                          headline  \\\n",
       "count                                         4440   \n",
       "unique                                        4214   \n",
       "top     European regulators crack down on Big Tech   \n",
       "freq                                             8   \n",
       "\n",
       "                                                  summary  \n",
       "count                                                4439  \n",
       "unique                                               4262  \n",
       "top     Editor's note: This post is part of the AI Dec...  \n",
       "freq                                                    6  "
      ]
     },
     "execution_count": 187,
     "metadata": {},
     "output_type": "execute_result"
    }
   ],
   "source": [
    "df_news.describe()"
   ]
  },
  {
   "cell_type": "code",
   "execution_count": 188,
   "id": "4c88fb4d",
   "metadata": {},
   "outputs": [],
   "source": [
    "# Check for duplicates. There are some duplicates in the news data.\n",
    "df_news.duplicated().any()\n",
    "\n",
    "# Display the duplicated rows\n",
    "df_news[df_news.duplicated()]\n",
    "\n",
    "# Remove duplicates from the news data\n",
    "df_news = df_news.drop_duplicates()"
   ]
  },
  {
   "cell_type": "markdown",
   "id": "1a65afd9",
   "metadata": {},
   "source": [
    "#### Combine Datasets"
   ]
  },
  {
   "cell_type": "code",
   "execution_count": 189,
   "id": "63b5ffc3",
   "metadata": {},
   "outputs": [
    {
     "name": "stderr",
     "output_type": "stream",
     "text": [
      "C:\\Users\\USUARIO\\AppData\\Local\\Temp\\ipykernel_19976\\2600075466.py:2: SettingWithCopyWarning: \n",
      "A value is trying to be set on a copy of a slice from a DataFrame.\n",
      "Try using .loc[row_indexer,col_indexer] = value instead\n",
      "\n",
      "See the caveats in the documentation: https://pandas.pydata.org/pandas-docs/stable/user_guide/indexing.html#returning-a-view-versus-a-copy\n",
      "  df_price['date'] = pd.to_datetime(df_price['date']).dt.date\n"
     ]
    }
   ],
   "source": [
    "# Convert date columns to datetime\n",
    "df_price['date'] = pd.to_datetime(df_price['date']).dt.date\n",
    "df_news['date'] = pd.to_datetime(df_news['datetime']).dt.date"
   ]
  },
  {
   "cell_type": "code",
   "execution_count": 190,
   "id": "cc691661",
   "metadata": {},
   "outputs": [],
   "source": [
    "# Add news count per day to the news dataframe\n",
    "news_agg = df_news.groupby('date').agg({\n",
    "    'headline': 'count'\n",
    "}).reset_index()\n",
    "news_agg.rename(columns={'headline': 'news_count'}, inplace=True)\n"
   ]
  },
  {
   "cell_type": "code",
   "execution_count": 191,
   "id": "fa94c3a2",
   "metadata": {},
   "outputs": [],
   "source": [
    "# Combine prices and news data on the 'date' column\n",
    "df_final = pd.merge(df_price, news_agg, on='date', how='left')\n",
    "\n",
    "# Fill NaN values in 'news_count' with 0 (days with no news)\n",
    "df_final['news_count'] = df_final['news_count'].fillna(0)"
   ]
  },
  {
   "cell_type": "code",
   "execution_count": 192,
   "id": "0e54784e",
   "metadata": {},
   "outputs": [
    {
     "data": {
      "text/html": [
       "<div>\n",
       "<style scoped>\n",
       "    .dataframe tbody tr th:only-of-type {\n",
       "        vertical-align: middle;\n",
       "    }\n",
       "\n",
       "    .dataframe tbody tr th {\n",
       "        vertical-align: top;\n",
       "    }\n",
       "\n",
       "    .dataframe thead th {\n",
       "        text-align: right;\n",
       "    }\n",
       "</style>\n",
       "<table border=\"1\" class=\"dataframe\">\n",
       "  <thead>\n",
       "    <tr style=\"text-align: right;\">\n",
       "      <th></th>\n",
       "      <th>date</th>\n",
       "      <th>ticker</th>\n",
       "      <th>open</th>\n",
       "      <th>high</th>\n",
       "      <th>low</th>\n",
       "      <th>close</th>\n",
       "      <th>volume</th>\n",
       "      <th>return</th>\n",
       "      <th>news_count</th>\n",
       "    </tr>\n",
       "  </thead>\n",
       "  <tbody>\n",
       "    <tr>\n",
       "      <th>0</th>\n",
       "      <td>2023-11-14</td>\n",
       "      <td>AAPL</td>\n",
       "      <td>187.699997</td>\n",
       "      <td>188.110001</td>\n",
       "      <td>186.300003</td>\n",
       "      <td>187.440002</td>\n",
       "      <td>60108400</td>\n",
       "      <td>0.014286</td>\n",
       "      <td>11.0</td>\n",
       "    </tr>\n",
       "    <tr>\n",
       "      <th>1</th>\n",
       "      <td>2023-11-15</td>\n",
       "      <td>AAPL</td>\n",
       "      <td>187.850006</td>\n",
       "      <td>189.500000</td>\n",
       "      <td>187.779999</td>\n",
       "      <td>188.009995</td>\n",
       "      <td>53790500</td>\n",
       "      <td>0.003041</td>\n",
       "      <td>4.0</td>\n",
       "    </tr>\n",
       "    <tr>\n",
       "      <th>2</th>\n",
       "      <td>2023-11-16</td>\n",
       "      <td>AAPL</td>\n",
       "      <td>189.570007</td>\n",
       "      <td>190.960007</td>\n",
       "      <td>188.649994</td>\n",
       "      <td>189.710007</td>\n",
       "      <td>54412900</td>\n",
       "      <td>0.009042</td>\n",
       "      <td>26.0</td>\n",
       "    </tr>\n",
       "    <tr>\n",
       "      <th>3</th>\n",
       "      <td>2023-11-17</td>\n",
       "      <td>AAPL</td>\n",
       "      <td>190.250000</td>\n",
       "      <td>190.380005</td>\n",
       "      <td>188.570007</td>\n",
       "      <td>189.690002</td>\n",
       "      <td>50922700</td>\n",
       "      <td>-0.000105</td>\n",
       "      <td>13.0</td>\n",
       "    </tr>\n",
       "    <tr>\n",
       "      <th>4</th>\n",
       "      <td>2023-11-20</td>\n",
       "      <td>AAPL</td>\n",
       "      <td>189.889999</td>\n",
       "      <td>191.910004</td>\n",
       "      <td>189.880005</td>\n",
       "      <td>191.449997</td>\n",
       "      <td>46505100</td>\n",
       "      <td>0.009278</td>\n",
       "      <td>4.0</td>\n",
       "    </tr>\n",
       "    <tr>\n",
       "      <th>5</th>\n",
       "      <td>2023-11-21</td>\n",
       "      <td>AAPL</td>\n",
       "      <td>191.410004</td>\n",
       "      <td>191.520004</td>\n",
       "      <td>189.740005</td>\n",
       "      <td>190.639999</td>\n",
       "      <td>38134500</td>\n",
       "      <td>-0.004231</td>\n",
       "      <td>10.0</td>\n",
       "    </tr>\n",
       "    <tr>\n",
       "      <th>6</th>\n",
       "      <td>2023-11-22</td>\n",
       "      <td>AAPL</td>\n",
       "      <td>191.490005</td>\n",
       "      <td>192.929993</td>\n",
       "      <td>190.830002</td>\n",
       "      <td>191.309998</td>\n",
       "      <td>39617700</td>\n",
       "      <td>0.003514</td>\n",
       "      <td>23.0</td>\n",
       "    </tr>\n",
       "    <tr>\n",
       "      <th>7</th>\n",
       "      <td>2023-11-24</td>\n",
       "      <td>AAPL</td>\n",
       "      <td>190.869995</td>\n",
       "      <td>190.899994</td>\n",
       "      <td>189.250000</td>\n",
       "      <td>189.970001</td>\n",
       "      <td>24048300</td>\n",
       "      <td>-0.007004</td>\n",
       "      <td>8.0</td>\n",
       "    </tr>\n",
       "    <tr>\n",
       "      <th>8</th>\n",
       "      <td>2023-11-27</td>\n",
       "      <td>AAPL</td>\n",
       "      <td>189.919998</td>\n",
       "      <td>190.669998</td>\n",
       "      <td>188.899994</td>\n",
       "      <td>189.789993</td>\n",
       "      <td>40552600</td>\n",
       "      <td>-0.000948</td>\n",
       "      <td>16.0</td>\n",
       "    </tr>\n",
       "    <tr>\n",
       "      <th>9</th>\n",
       "      <td>2023-11-28</td>\n",
       "      <td>AAPL</td>\n",
       "      <td>189.779999</td>\n",
       "      <td>191.080002</td>\n",
       "      <td>189.399994</td>\n",
       "      <td>190.399994</td>\n",
       "      <td>38415400</td>\n",
       "      <td>0.003214</td>\n",
       "      <td>27.0</td>\n",
       "    </tr>\n",
       "  </tbody>\n",
       "</table>\n",
       "</div>"
      ],
      "text/plain": [
       "         date ticker        open        high         low       close  \\\n",
       "0  2023-11-14   AAPL  187.699997  188.110001  186.300003  187.440002   \n",
       "1  2023-11-15   AAPL  187.850006  189.500000  187.779999  188.009995   \n",
       "2  2023-11-16   AAPL  189.570007  190.960007  188.649994  189.710007   \n",
       "3  2023-11-17   AAPL  190.250000  190.380005  188.570007  189.690002   \n",
       "4  2023-11-20   AAPL  189.889999  191.910004  189.880005  191.449997   \n",
       "5  2023-11-21   AAPL  191.410004  191.520004  189.740005  190.639999   \n",
       "6  2023-11-22   AAPL  191.490005  192.929993  190.830002  191.309998   \n",
       "7  2023-11-24   AAPL  190.869995  190.899994  189.250000  189.970001   \n",
       "8  2023-11-27   AAPL  189.919998  190.669998  188.899994  189.789993   \n",
       "9  2023-11-28   AAPL  189.779999  191.080002  189.399994  190.399994   \n",
       "\n",
       "     volume    return  news_count  \n",
       "0  60108400  0.014286        11.0  \n",
       "1  53790500  0.003041         4.0  \n",
       "2  54412900  0.009042        26.0  \n",
       "3  50922700 -0.000105        13.0  \n",
       "4  46505100  0.009278         4.0  \n",
       "5  38134500 -0.004231        10.0  \n",
       "6  39617700  0.003514        23.0  \n",
       "7  24048300 -0.007004         8.0  \n",
       "8  40552600 -0.000948        16.0  \n",
       "9  38415400  0.003214        27.0  "
      ]
     },
     "execution_count": 192,
     "metadata": {},
     "output_type": "execute_result"
    }
   ],
   "source": [
    "df_final.head(10)"
   ]
  },
  {
   "cell_type": "markdown",
   "id": "b891319c",
   "metadata": {},
   "source": [
    "### Feature Engineering"
   ]
  },
  {
   "cell_type": "markdown",
   "id": "5dc6ecea",
   "metadata": {},
   "source": [
    "### Modeling"
   ]
  },
  {
   "cell_type": "markdown",
   "id": "c3ab004f",
   "metadata": {},
   "source": [
    "### Results"
   ]
  }
 ],
 "metadata": {
  "kernelspec": {
   "display_name": "Python 3",
   "language": "python",
   "name": "python3"
  },
  "language_info": {
   "codemirror_mode": {
    "name": "ipython",
    "version": 3
   },
   "file_extension": ".py",
   "mimetype": "text/x-python",
   "name": "python",
   "nbconvert_exporter": "python",
   "pygments_lexer": "ipython3",
   "version": "3.13.1"
  }
 },
 "nbformat": 4,
 "nbformat_minor": 5
}
